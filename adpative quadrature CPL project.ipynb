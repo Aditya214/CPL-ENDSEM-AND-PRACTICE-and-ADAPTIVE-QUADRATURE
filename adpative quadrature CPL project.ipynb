{
 "cells": [
  {
   "cell_type": "markdown",
   "metadata": {},
   "source": [
    "## ADAPTIVE QUADRATURE\n",
    "## By: ADITYA PRAKASH BATCH 19"
   ]
  },
  {
   "cell_type": "code",
   "execution_count": 2,
   "metadata": {},
   "outputs": [],
   "source": [
    "from tabulate import tabulate\n",
    "import math\n",
    "%run mylib.ipynb\n"
   ]
  },
  {
   "cell_type": "code",
   "execution_count": 3,
   "metadata": {},
   "outputs": [],
   "source": [
    "# note each time u call this function always call it with count = []\n",
    "# that is u must always provide it with empty list of counts in starting\n",
    "\n",
    "# Adaptive Qudrature For SIMPSON\n",
    "\n",
    "\n",
    "\n",
    "\n",
    "\n",
    "\"\"\"Input: func = function to be integrated\n",
    "        in interval [a,b] , with error\n",
    "        output: integral value and number of subdivisions done\"\"\"\n",
    "def inte_adaptivequad_simp(func,a,b,error,count= []):\n",
    "    S1 = inte_simpson(func,a,b,2)            # calling composite simpson from my library\n",
    "    S2= inte_simpson(func, a, b,4)               # calling composite simpson from my library \n",
    "    if abs(S2-S1)<15*error:\n",
    "        answer = S2 + (S2-S1)/15\n",
    "    else:\n",
    "        c = (a+b)/2 \n",
    "        count.append(1)\n",
    "        L, c1 = inte_adaptivequad_simp(func,a,c,error/2,count)\n",
    "        R, c2 = inte_adaptivequad_simp(func,c,b,error/2,count)\n",
    "        answer = L +R\n",
    "    return answer , len(count) \n",
    "\n",
    "\n",
    "# Adaptive Qudrature For Midpoint\n",
    "\n",
    "def inte_adaptivequad_midpoint(func,a,b,error,count= []):\n",
    "\n",
    "    S1 = inte_mid(func,a,b,1)                        # calling midpoint from my library\n",
    "    S2= inte_mid(func, a, b, 2)                       # calling midpoint from my library\n",
    "    if abs(S2-S1)<3*error:\n",
    "        answer = S2 + (S2-S1)/3\n",
    "    else:\n",
    "        c = (a+b)/2 \n",
    "        count.append(1)\n",
    "        L, c1 = inte_adaptivequad_midpoint(func,a,c,error/2,count)\n",
    "        R, c2 = inte_adaptivequad_midpoint(func,c,b,error/2,count)\n",
    "        answer = L +R\n",
    "         \n",
    "    return answer , len(count)\n",
    "\n",
    "# Adaptive Qudrature For Trapezoid\n",
    "\n",
    "def inte_adaptivequad_trapezoidal(func,a,b,error,count= []):\n",
    "\n",
    "    S1 = inte_trapezoid(func,a,b,1)                         # calling midpoint from my library\n",
    "    S2= inte_trapezoid(func, a, b, 2)                        # calling midpoint from my library\n",
    "    if abs(S2-S1)<3*error:\n",
    "        answer = S2 + (S2-S1)/3\n",
    "    else:\n",
    "        c = (a+b)/2 \n",
    "        count.append(1)\n",
    "        L, c1 = inte_adaptivequad_trapezoidal(func,a,c,error/2,count)\n",
    "        R, c2 = inte_adaptivequad_trapezoidal(func,c,b,error/2,count)\n",
    "        answer = L +R\n",
    "    return answer , len(count)\n",
    "\n",
    "\n"
   ]
  },
  {
   "cell_type": "markdown",
   "metadata": {},
   "source": [
    "## Numerically Integrating:\n",
    "## $\\int_{0}^{\\pi/2} Sin(x) dx$"
   ]
  },
  {
   "cell_type": "code",
   "execution_count": 4,
   "metadata": {},
   "outputs": [
    {
     "name": "stdout",
     "output_type": "stream",
     "text": [
      "| Method Used        | Integrand [0,π/2]   |   Integral Value |   N |\n",
      "|--------------------+---------------------+------------------+-----|\n",
      "| Simpson            | sin(x)              |         1        |  16 |\n",
      "| Adaptive Simpson   | sin(x)              |         1        |   3 |\n",
      "| Midpoint           | sin(x)              |         1        | 401 |\n",
      "| Adaptive Midpoint  | sin(x)              |         1        | 216 |\n",
      "| Trapezoid          | sin(x)              |         0.999999 | 568 |\n",
      "| Adaptive Trapezoid | sin(x)              |         1        | 338 |\n"
     ]
    }
   ],
   "source": [
    "func = lambda x: math.sin(x)\n",
    "# note each time u call this function always call it with count = []\n",
    "# that is u must always provide it with empty list of counts in starting\n",
    "integral1 = inte_adaptivequad_simp(func,0,math.pi/2, 10**(-6),count=[])\n",
    "integral2 = inte_adaptivequad_midpoint(func,0,math.pi/2, 10**(-6),count=[])\n",
    "integral3 = inte_adaptivequad_trapezoidal(func,0,math.pi/2, 10**(-6),count=[])\n",
    "integral5 = inte_simpson(func,0,math.pi/2,16)\n",
    "integral6 = inte_trapezoid(func,0,math.pi/2,568)\n",
    "integral7 = inte_mid(func,0,math.pi/2,401)\n",
    "l = [[\"Simpson\", \"sin(x)\" , integral7 ,16], [\"Adaptive Simpson\", \"sin(x)\", integral1[0],integral1[1]], [\"Midpoint\", \"sin(x)\",integral7,401],[\"Adaptive Midpoint\", \"sin(x)\" , integral2[0],integral2[1]],[\"Trapezoid\", \"sin(x)\" , integral6,568],[\"Adaptive Trapezoid\",\"sin(x)\", integral3[0],integral3[1]]]\n",
    "table = tabulate(l, headers=['Method Used', 'Integrand [0,π/2]',\"Integral Value\", 'N'], tablefmt='orgtbl')\n",
    "\n",
    "print(table)"
   ]
  },
  {
   "cell_type": "markdown",
   "metadata": {},
   "source": [
    "## Estimating Value of $\\pi$ by:\n",
    "## $\\int_{0}^{1} \\frac{4}{1+x^2} dx = 3.141592653589793 $ (Analytical Value)"
   ]
  },
  {
   "cell_type": "code",
   "execution_count": 22,
   "metadata": {},
   "outputs": [
    {
     "name": "stdout",
     "output_type": "stream",
     "text": [
      "| Method Used        | Integrand [0,1]   |   Integral Value |   N |\n",
      "|--------------------+-------------------+------------------+-----|\n",
      "| Simpson            | 4/(1+x^2)         |          3.14159 |  28 |\n",
      "| Adaptive Simpson   | 4/(1+x^2)         |          3.14159 |   7 |\n",
      "| Midpoint           | 4/(1+x^2)         |          3.14159 | 288 |\n",
      "| Adaptive Midpoint  | 4/(1+x^2)         |          3.14159 | 261 |\n",
      "| Trapezoid          | 4/(1+x^2)         |          3.14159 | 408 |\n",
      "| Adaptive Trapezoid | 4/(1+x^2)         |          3.14159 | 330 |\n"
     ]
    }
   ],
   "source": [
    "func = lambda x: (4/(1+x**2))\n",
    "# note each time u call this function always call it with count = []\n",
    "# that is u must always provide it with empty list of counts in starting\n",
    "integral8 = inte_adaptivequad_simp(func,0,1, 10**(-6),count=[])\n",
    "integral9 = inte_adaptivequad_midpoint(func,0,1, 10**(-6),count=[])\n",
    "integral10 = inte_adaptivequad_trapezoidal(func,0,1, 10**(-6),count=[])\n",
    "integral11 = inte_simpson(func,0,1,16)\n",
    "integral12 = inte_trapezoid(func,0,1,568)\n",
    "integral13 = inte_mid(func,0,1,401)\n",
    "\n",
    "#print(integral8, integral9, integral10,integral13)\n",
    "l = [[\"Simpson\", \"4/(1+x^2)\" , integral11 ,28], [\"Adaptive Simpson\", \"4/(1+x^2)\", integral8[0],integral8[1]], [\"Midpoint\", \"4/(1+x^2)\",integral13,288],[\"Adaptive Midpoint\", \"4/(1+x^2)\" , integral9[0],integral9[1]],[\"Trapezoid\", \"4/(1+x^2)\" , integral12,408],[\"Adaptive Trapezoid\",\"4/(1+x^2)\", integral10[0],integral10[1]]]\n",
    "table = tabulate(l, headers=['Method Used', 'Integrand [0,1]',\"Integral Value\", 'N'], tablefmt='orgtbl')\n",
    "\n",
    "print(table)"
   ]
  },
  {
   "cell_type": "markdown",
   "metadata": {},
   "source": [
    "## ERROR"
   ]
  },
  {
   "cell_type": "code",
   "execution_count": 12,
   "metadata": {},
   "outputs": [
    {
     "name": "stdout",
     "output_type": "stream",
     "text": [
      "Difference of real value of pi and adaptive simpson is 1.1824408119309737e-10\n"
     ]
    }
   ],
   "source": [
    "print(f\"Difference of real value of pi and adaptive simpson is {abs(math.pi-integral8[0])}\")"
   ]
  },
  {
   "cell_type": "code",
   "execution_count": 14,
   "metadata": {},
   "outputs": [
    {
     "name": "stdout",
     "output_type": "stream",
     "text": [
      "Difference of simpson and adaptive simpson is 2.4832149669862247e-09\n"
     ]
    }
   ],
   "source": [
    "print(f\"Difference of simpson and adaptive simpson is {abs(integral8[0]-integral11)}\")"
   ]
  },
  {
   "cell_type": "code",
   "execution_count": 17,
   "metadata": {},
   "outputs": [
    {
     "data": {
      "text/plain": [
       "1.6554766446574832e-10"
      ]
     },
     "execution_count": 17,
     "metadata": {},
     "output_type": "execute_result"
    }
   ],
   "source": [
    "(integral8[0]-integral11)/15"
   ]
  },
  {
   "cell_type": "code",
   "execution_count": null,
   "metadata": {},
   "outputs": [],
   "source": []
  }
 ],
 "metadata": {
  "interpreter": {
   "hash": "dc5bb08d89a07dea54be1faa1293f54c18ec78d3669ae0c9263af5ceb2e3d307"
  },
  "kernelspec": {
   "display_name": "Python 3.9.6 64-bit",
   "language": "python",
   "name": "python3"
  },
  "language_info": {
   "codemirror_mode": {
    "name": "ipython",
    "version": 3
   },
   "file_extension": ".py",
   "mimetype": "text/x-python",
   "name": "python",
   "nbconvert_exporter": "python",
   "pygments_lexer": "ipython3",
   "version": "3.9.6"
  },
  "orig_nbformat": 4
 },
 "nbformat": 4,
 "nbformat_minor": 2
}
